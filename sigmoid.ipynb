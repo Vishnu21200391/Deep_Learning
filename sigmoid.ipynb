{
 "cells": [
  {
   "cell_type": "code",
   "execution_count": 2,
   "id": "85a5371d-aaa8-4033-a729-bd4fd6865793",
   "metadata": {},
   "outputs": [],
   "source": [
    "import numpy as np\n",
    "import pandas as pd"
   ]
  },
  {
   "cell_type": "code",
   "execution_count": 3,
   "id": "5c35013e-f172-40d9-92ea-eecb82701f52",
   "metadata": {},
   "outputs": [],
   "source": [
    "def sigmoid(x):\n",
    "    return 1/(1+np.exp(-x))"
   ]
  },
  {
   "cell_type": "code",
   "execution_count": 4,
   "id": "75c78055-4a4c-47ff-8b85-047beb99f58e",
   "metadata": {},
   "outputs": [
    {
     "name": "stdout",
     "output_type": "stream",
     "text": [
      "0.5\n",
      "[0.26894142 0.5        0.73105858]\n"
     ]
    }
   ],
   "source": [
    "print(sigmoid(0))\n",
    "x=np.array([-1,0,1])\n",
    "print(sigmoid(x))"
   ]
  },
  {
   "cell_type": "code",
   "execution_count": 7,
   "id": "15d2c161-ef0f-41d3-bbcb-cefaaa0bd02d",
   "metadata": {},
   "outputs": [
    {
     "data": {
      "text/plain": [
       "0.5"
      ]
     },
     "execution_count": 7,
     "metadata": {},
     "output_type": "execute_result"
    }
   ],
   "source": [
    "import math\n",
    "def sigmoid(z):\n",
    "  return 1/(1+math.exp(-z))\n",
    "input_val= 0\n",
    "sigmoid(input_val)"
   ]
  },
  {
   "cell_type": "code",
   "execution_count": null,
   "id": "bc911b7f-1426-46f4-bea5-55f77ed3b974",
   "metadata": {},
   "outputs": [],
   "source": []
  }
 ],
 "metadata": {
  "kernelspec": {
   "display_name": "Python 3 (ipykernel)",
   "language": "python",
   "name": "python3"
  },
  "language_info": {
   "codemirror_mode": {
    "name": "ipython",
    "version": 3
   },
   "file_extension": ".py",
   "mimetype": "text/x-python",
   "name": "python",
   "nbconvert_exporter": "python",
   "pygments_lexer": "ipython3",
   "version": "3.13.2"
  }
 },
 "nbformat": 4,
 "nbformat_minor": 5
}
